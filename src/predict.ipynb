{
 "cells": [
  {
   "cell_type": "markdown",
   "metadata": {},
   "source": [
    "# Import libraries"
   ]
  },
  {
   "cell_type": "code",
   "execution_count": null,
   "metadata": {},
   "outputs": [],
   "source": [
    "import pandas as pd\n",
    "import numpy as np\n",
    "import hashlib\n",
    "import os \n",
    "from utils import logger\n",
    "from sklearn.preprocessing import StandardScaler\n",
    "from sklearn.model_selection import train_test_split\n",
    "from sklearn.feature_selection import SelectFromModel\n",
    "from sklearn import datasets\n",
    "\n",
    "from sklearn.linear_model import LassoCV\n",
    "from sklearn.linear_model import Lasso\n",
    "from sklearn.decomposition import PCA\n",
    "from sklearn.manifold import TSNE\n",
    "\n",
    "from sklearn.model_selection import KFold\n",
    "from sklearn.model_selection import GridSearchCV\n",
    "from utils import logger\n",
    "import sys\n",
    "\n",
    "# import matplotlib.pyplot as plt\n",
    "# from mpl_toolkits.mplot3d import axes3d\n",
    "\n",
    "import plotly.plotly as py\n",
    "import plotly.graph_objs as go\n",
    "import itertools as it\n",
    "\n",
    "# %matplotlib notebook"
   ]
  },
  {
   "cell_type": "markdown",
   "metadata": {},
   "source": [
    "# Feature Selection\n",
    "#### Lasso\n",
    "#### PCA - It is using the correlation between some dimensions and tries to provide a minimum number of variables that keeps the maximum amount of variation or information about how the original data is distributed. \n",
    "#### tSNE - looks at the original data that is entered into the algorithm and looks at how to best represent this data using less dimensions by matching both distributions"
   ]
  },
  {
   "cell_type": "code",
   "execution_count": null,
   "metadata": {},
   "outputs": [],
   "source": [
    "def lassoSelection(X_train, y_train, n):\n",
    "    '''\n",
    "    Lasso feature selection.  Select n features. \n",
    "    '''\n",
    "    #lasso feature selection\n",
    "    #print (X_train)\n",
    "    clf = LassoCV(max_iter=10000,tol=0.001)\n",
    "    sfm = SelectFromModel(clf,threshold=0)\n",
    "    sfm.fit(X_train, y_train)\n",
    "    X_transform = sfm.transform(X_train)\n",
    "    n_features = X_transform.shape[1]\n",
    "\n",
    "    # \tprint(\"n_features=\",n_features)\n",
    "    #print(n_features)\n",
    "    while n_features > n:\n",
    "        sfm.threshold += 0.01\n",
    "        X_transform = sfm.transform(X_train)\n",
    "        n_features = X_transform.shape[1]\n",
    "        print (\"n_features =\",n_features)\n",
    "    features = [index for index,value in enumerate(sfm.get_support()) if value == True  ]\n",
    "    logger.info(\"selected features are {}\".format(features))\n",
    "    return features"
   ]
  },
  {
   "cell_type": "code",
   "execution_count": null,
   "metadata": {},
   "outputs": [],
   "source": [
    "def pcaSelection(X_train, X_test, n):\n",
    "    '''\n",
    "    PCA feature selection.  Select n features. \n",
    "    '''\n",
    "    pca = PCA(n_components=n)\n",
    "    pca.fit(X_train)\n",
    "    X_train_new = pca.transform(X_train)\n",
    "    X_test_new = pca.transform(X_test)\n",
    "    logger.info(\"X_train size after PCA: {}\".format(X_train_new.shape))\n",
    "    logger.info(\"X_test size after PCA: {}\".format(X_test_new.shape))\n",
    "    logger.info(\"Cumulative explained variation for {} principal components: {}\".format(n,np.sum(pca.explained_variance_ratio_)))\n",
    "    return [X_train_new,X_test_new]"
   ]
  },
  {
   "cell_type": "code",
   "execution_count": null,
   "metadata": {},
   "outputs": [],
   "source": [
    "def tsneSelection(X_train, n, v):\n",
    "    '''\n",
    "    t-distributed Stochastic Neighbor Embedding feature selection.  Select n features. \n",
    "    '''\n",
    "    tsne = TSNE(n_components=n,verbose=v)\n",
    "    X_train_new = tsne.fit_transform(X_train)\n",
    "    logger.info(\"X_train size after tSNE: {}\".format(X_train_new.shape))\n",
    "    return X_train_new"
   ]
  },
  {
   "cell_type": "markdown",
   "metadata": {},
   "source": [
    "# Model"
   ]
  },
  {
   "cell_type": "code",
   "execution_count": null,
   "metadata": {},
   "outputs": [],
   "source": [
    "def model_fit_predict(X_train,X_test,y_train,y_test):\n",
    "\n",
    "    # np.random.seed(2018)\n",
    "    from sklearn.linear_model import LogisticRegression\n",
    "    from sklearn.ensemble import RandomForestClassifier\n",
    "    # from sklearn.ensemble import AdaBoostClassifier\n",
    "    from sklearn.ensemble import GradientBoostingClassifier\n",
    "    from sklearn.ensemble import ExtraTreesClassifier\n",
    "    from sklearn.svm import SVC\n",
    "    from sklearn.metrics import precision_score\n",
    "    from sklearn.metrics import accuracy_score\n",
    "    from sklearn.metrics import f1_score\n",
    "    from sklearn.metrics import recall_score\n",
    "    models = {\n",
    "        'LogisticRegression': LogisticRegression(random_state=0, multi_class='ovr',solver='newton-cg',max_iter=10000,tol=0.001),\n",
    "        'ExtraTreesClassifier': ExtraTreesClassifier(),\n",
    "        'RandomForestClassifier': RandomForestClassifier(),\n",
    "    #   \t# 'AdaBoostClassifier': AdaBoostClassifier(),\n",
    "        # 'GradientBoostingClassifier': GradientBoostingClassifier(),\n",
    "        'SVC': SVC(decision_function_shape='ovo',max_iter=10000,tol=0.001)\n",
    "    }\n",
    "    tuned_parameters = {\n",
    "        'LogisticRegression':{'C': [1, 10]},\n",
    "        # 'LogisticRegression':{'solver':['newton-cg','liblinear','sag'],'C': [1, 10]}\n",
    "        'ExtraTreesClassifier': { 'n_estimators': [100] },\n",
    "        'RandomForestClassifier': { 'n_estimators': [16, 32] },\n",
    "    #   \t'AdaBoostClassifier': { 'n_estimators': [16, 32] },\n",
    "        # 'GradientBoostingClassifier': { 'n_estimators': [16, 32], 'learning_rate': [0.05] },\n",
    "        # 'GradientBoostingClassifier': { 'n_estimators': [16, 32], 'learning_rate': [0.8, 1.0] },\n",
    "        'SVC': {'kernel': ['rbf'], 'C': [1, 10], 'gamma': [0.001, 0.0001]}\n",
    "    }\n",
    "    scores= {}\n",
    "    for key in models:\n",
    "        print(\"Running\",key,\"...\")\n",
    "        clf = GridSearchCV(models[key], tuned_parameters[key], scoring=None,  refit=True, cv=10)\n",
    "        clf.fit(X_train,y_train)\n",
    "        y_test_predict = clf.predict(X_test)\n",
    "        precision = precision_score(y_test, y_test_predict,average='micro') # tp / (tp + fp)\n",
    "        accuracy = accuracy_score(y_test, y_test_predict) #subset accuracy\n",
    "        f1 = f1_score(y_test, y_test_predict,average='micro') # F1 = 2 * (precision * recall) / (precision + recall)\n",
    "        recall = recall_score(y_test, y_test_predict, average='macro') \n",
    "        # specificity = specificity_score(y_test, y_test_predict)\n",
    "        scores[key] = [precision,accuracy,f1,recall]\n",
    "    print(scores)\n",
    "    return scores"
   ]
  },
  {
   "cell_type": "markdown",
   "metadata": {},
   "source": [
    "# Scatterplot Function"
   ]
  },
  {
   "cell_type": "code",
   "execution_count": null,
   "metadata": {},
   "outputs": [],
   "source": [
    "# Scatter plot 2D & 3D\n",
    "num_class = 36\n",
    "colors = it.cycle([\"aquamarine\", \"crimson\", \"darkseagreen\", \"deeppink\",\"wheat\",\"violet\",\"fuchsia\",\"turquoise\",\\\n",
    "                   \"ivory\", \"honeydew\", \"rosybrown\",\"red\",\"lemonchiffon\",\"darkorchid\",\"mintcream\",\"papayawhip\",\\\n",
    "                   \"beige\",\"darkcyan\",\"firebrick\",\"deepskyblue\",\"seashell\",\"mediumpurple\",\"goldenrod\",\"lightcoral\",\\\n",
    "                   \"limegreen\",\"cadetblue\",\"darkmagenta\",\"ghostwhite\",\"gainsboro\",\"paleturquoise\",\"teal\",\"peru\",\\\n",
    "                  \"maroon\",\"olivedrab\",\"springgreen\",\"yellowgreen\"])\n",
    "classes = it.cycle(['Breast', 'Uterine Corpus', 'Head', 'Kidney Renal Clear', 'Lung Adenocarcinoma', 'Brain', 'Thyroid', 'Prostate', 'Ovarian', 'Lung Squamous', 'Skin', 'Colon', 'Stomach', 'Bladder', 'Liver', 'Cervical', 'Kidney Renal Papillary', 'Leukemia', 'Sarcoma', 'Esophageal', 'Pheochromocytoma', 'Pancreatic', 'Rectum', 'Testicular', 'Wilms', 'Thymoma', 'Mesothelioma', 'Adrenocortical', 'Uveal', 'Kidney Chromophobe', 'Uterine Carcinosarcoma', 'Lymphoid', 'Rhabdoid', 'Cholangiocarcinoma', 'Glioblastoma'])\n",
    "\n",
    "\n",
    "def scatter2D(X_train_2d):\n",
    "    '''\n",
    "    Function to genrate traces for 2D scatter plot\n",
    "    Args: 2-feature X_train of dimension [?,2]\n",
    "    Return: list of scatter plot trace objects\n",
    "    '''\n",
    "    data=[]\n",
    "    for label in range(0,num_class):\n",
    "        filtered_idx = np.argwhere(y_train==label)[:,0]\n",
    "        trace = go.Scatter(\n",
    "            x=X_train_2d[filtered_idx,0],\n",
    "            y=X_train_2d[filtered_idx,1],\n",
    "            mode='markers',\n",
    "            marker=dict(\n",
    "                size=5,\n",
    "                line=dict(\n",
    "                    color=next(colors),\n",
    "                    width=0.1\n",
    "                    ),\n",
    "                opacity=0.5\n",
    "                ),\n",
    "            name=next(classes)\n",
    "            )\n",
    "        data.append(trace)\n",
    "    return data\n",
    "\n",
    "\n",
    "def scatter3D(X_train_3d):\n",
    "    '''\n",
    "    Function to generate traces for 3D scatter plot\n",
    "    Args: 3-feature X_train of dimension [?,3]\n",
    "    ReturnL list of scatter plot trace objects\n",
    "    '''\n",
    "    data=[]\n",
    "    for label in range(0,num_class):\n",
    "        filtered_idx = np.argwhere(y_train==label)[:,0]\n",
    "        trace = go.Scatter3d(\n",
    "            x=X_train_3d[filtered_idx,0],\n",
    "            y=X_train_3d[filtered_idx,1],\n",
    "            z=X_train_3d[filtered_idx,2],\n",
    "            mode='markers',\n",
    "            marker=dict(\n",
    "                size=5,\n",
    "                line=dict(\n",
    "                    color=next(colors),\n",
    "                    width=0.1\n",
    "                    ),\n",
    "                opacity=0.5\n",
    "                ),\n",
    "            name=next(classes)\n",
    "            )\n",
    "        data.append(trace)\n",
    "    return data"
   ]
  },
  {
   "cell_type": "markdown",
   "metadata": {},
   "source": [
    "# Pre-processing\n",
    "### Separate X (features) and y (labels)\n",
    "### Split training (70%) and testing (30%) dataset\n",
    "### Standardize data -- scale features such that they are 1) zero-mean, 2) one-variance"
   ]
  },
  {
   "cell_type": "code",
   "execution_count": null,
   "metadata": {},
   "outputs": [],
   "source": [
    "data_file = \"../data/miRNA.csv\" # directory to miRNA_matrix.csv\n",
    "\n",
    "df = pd.read_csv(data_file)\n",
    "y_data = df.pop('label').values\n",
    "df.pop('file_id')\n",
    "columns =df.columns\n",
    "X_data = df.values\n",
    "\n",
    "print (\"Original dataset size:\",X_data.shape[0])\n",
    "print (\"Total feature num:\",X_data.shape[1])\n",
    "\n",
    "# split the data to train and test set\n",
    "X_train, X_test, y_train, y_test = train_test_split(X_data, y_data, test_size=0.3, random_state=0)\n",
    "print(\"Training dataset size:\",X_train.shape[0])\n",
    "print(\"Testing dataset size:\", X_test.shape[0])\n",
    "# print(columns)\n",
    "# print(X_train)\n",
    "# print(y_train)\n",
    "\n",
    "# standardize the data (zero-mean,uniform variance)\n",
    "print (\"pre-processing data...\")\n",
    "scaler = StandardScaler()\n",
    "scaler = scaler.fit(X_train.astype(np.float64))\n",
    "X_train = scaler.transform(X_train.astype(np.float64))\n",
    "X_test = scaler.transform(X_test.astype(np.float64))\n",
    "logger.info(\"Mean of features after standardization: {}\".format(X_train.mean(axis=0)))\n",
    "logger.info(\"STD of features after standardization: {}\".format(X_train.std(axis=0)))\n",
    "            \n",
    "layout = go.Layout(\n",
    "    margin=dict(\n",
    "        l=0,\n",
    "        r=0,\n",
    "        b=0,\n",
    "        t=0\n",
    "        )\n",
    ")"
   ]
  },
  {
   "cell_type": "markdown",
   "metadata": {},
   "source": [
    "# Feature Reduction/Selection\n",
    "### Lasso\n",
    "### PCA\n",
    "### PCA + tSNE"
   ]
  },
  {
   "cell_type": "code",
   "execution_count": null,
   "metadata": {},
   "outputs": [],
   "source": [
    "# LASSO feature selection\n",
    "n = 50\n",
    "feaures_columns = lassoSelection(X_train, y_train, n)\n",
    "# feaures_columns = [25, 92, 119, 163, 166, 168, 181, 187, 194, 216, 240, 241, 248, \\\n",
    "# 253, 271, 272, 273, 282, 285, 287, 295, 305, 306, 336, 337, 339, 341, 351, 352, 488, \\\n",
    "# 495, 503, 511, 544, 588, 593, 641, 764, 1063, 1090, 1100, 1126, 1395, 1461, 1509, 1523, 1834, 1848, 1872]\n",
    "scores_lasso = model_fit_predict(X_train[:,feaures_columns],X_test[:,feaures_columns],y_train,y_test)"
   ]
  },
  {
   "cell_type": "code",
   "execution_count": null,
   "metadata": {},
   "outputs": [],
   "source": [
    "# PCA feature reduction to n-components\n",
    "n = 650\n",
    "X_train_pca, X_test_pca = pcaSelection(X_train, X_test, n)\n",
    "scores_pca = model_fit_predict(X_train_pca,X_test_pca,y_train,y_test)"
   ]
  },
  {
   "cell_type": "code",
   "execution_count": null,
   "metadata": {},
   "outputs": [],
   "source": [
    "# PCA 3-component scatter plot\n",
    "X_train_pca3, X_test_pca3 = pcaSelection(X_train, X_test, 3)\n",
    "pca3_traces = scatter3D(X_train_pca3)\n",
    "fig1 = go.Figure(data=pca3_traces, layout=layout)\n",
    "py.iplot(fig1, filename='PCA_3D_Scatter')"
   ]
  },
  {
   "cell_type": "code",
   "execution_count": null,
   "metadata": {},
   "outputs": [],
   "source": [
    "# tSNE 3-component scatter plot (PCA->tSNE)\n",
    "X_train_tsne3 = tsneSelection(X_train_pca,3,1)\n",
    "tsne3_traces = scatter3D(X_train_tsne3)\n",
    "fig3 = go.Figure(data=tsne3_traces, layout=layout)\n",
    "py.iplot(fig3, filename='tSNE_3D_Scatter')"
   ]
  },
  {
   "cell_type": "code",
   "execution_count": null,
   "metadata": {},
   "outputs": [],
   "source": [
    "# PCA 2-component scatter plot\n",
    "X_train_pca2, X_test_pca2 = pcaSelection(X_train, X_test, 2)\n",
    "pca2_traces = scatter2D(X_train_pca2)\n",
    "fig2 = go.Figure(data=pca2_traces, layout=layout)\n",
    "py.iplot(fig2, filename='PCA_2D_Scatter')"
   ]
  },
  {
   "cell_type": "code",
   "execution_count": null,
   "metadata": {},
   "outputs": [],
   "source": [
    "# tSNE 2-component scatter plot (PCA->tSNE)\n",
    "X_train_tsne2 = tsneSelection(X_train_pca,2,1)\n",
    "tsne2_traces = scatter2D(X_train_tsne2)\n",
    "fig4 = go.Figure(data=tsne2_traces, layout=layout)\n",
    "py.iplot(fig4, filename='tSNE_2D_Scatter')"
   ]
  },
  {
   "cell_type": "code",
   "execution_count": null,
   "metadata": {},
   "outputs": [],
   "source": []
  }
 ],
 "metadata": {
  "kernelspec": {
   "display_name": "Python 3",
   "language": "python",
   "name": "python3"
  },
  "language_info": {
   "codemirror_mode": {
    "name": "ipython",
    "version": 3
   },
   "file_extension": ".py",
   "mimetype": "text/x-python",
   "name": "python",
   "nbconvert_exporter": "python",
   "pygments_lexer": "ipython3",
   "version": "3.7.0"
  }
 },
 "nbformat": 4,
 "nbformat_minor": 2
}
