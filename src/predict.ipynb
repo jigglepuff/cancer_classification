{
 "cells": [
  {
   "cell_type": "markdown",
   "metadata": {},
   "source": [
    "# Import libraries\n",
    "**pandas** - data manipulation and analysis (i.e. DataFrame, integrated indexing).<br>\n",
    "**numpy** - multi-dimensional array manipulation.<br>\n",
    "**sklearn** - machine learning library with various classification, regression and clustering algorithms <br>\n",
    "**plotly** - graphing library that supports interactive graphs <br>\n",
    "**logger** - custom logger wrapper built on top of Python logger for event logging <br>\n",
    "**itertools** - fast & memory-efficient looping tool"
   ]
  },
  {
   "cell_type": "code",
   "execution_count": 1,
   "metadata": {},
   "outputs": [],
   "source": [
    "import pandas as pd\n",
    "import numpy as np\n",
    "import hashlib\n",
    "import os \n",
    "from utils import logger\n",
    "from sklearn.preprocessing import StandardScaler\n",
    "from sklearn.preprocessing import MinMaxScaler\n",
    "from sklearn.model_selection import train_test_split\n",
    "from sklearn.feature_selection import SelectFromModel\n",
    "from sklearn import datasets\n",
    "\n",
    "from sklearn.linear_model import LassoCV\n",
    "from sklearn.linear_model import Lasso\n",
    "from sklearn.decomposition import PCA\n",
    "from sklearn.manifold import TSNE\n",
    "\n",
    "from sklearn.model_selection import KFold\n",
    "from sklearn.model_selection import GridSearchCV\n",
    "from utils import logger\n",
    "import sys\n",
    "\n",
    "import plotly.plotly as py\n",
    "import plotly.graph_objs as go\n",
    "import itertools as it\n",
    "\n",
    "from sklearn.metrics import classification_report,confusion_matrix\n",
    "from sklearn.metrics import roc_curve, auc"
   ]
  },
  {
   "cell_type": "markdown",
   "metadata": {},
   "source": [
    "# Feature Selection & Extraction Helpers\n",
    "**Purpose** - reduces overfitting, improves accuracy (sometimes), reduces training time.\n",
    "## Feature Selection \n",
    "**In a nutshell**: runs analysis on dataset and returns the best set of features which can be used for classification. <br>\n",
    "* **Filter Method** - calculate correlation of feature variable with target variable. The features are ranked by the score and either selected to be kept or removed from the dataset. (eg. Chi-square, information gain, correlation coefficient scores)<br>\n",
    "* **Wrapper Method** - search for combination of variables that performs the best using a certain heuristic (e.g. subset, forward, backward elimination) <br>\n",
    "* **Embedded method** - learn which features best contribute to accuracy while model is being created using regularization methods (e.g. Lasso, Ridge, Elastic Net)<br>\n",
    "\n",
    "## Feature Extraction \n",
    "**In a nutshell**: use initial features to build derived features that are more informative and non-redundent than the original dataset. This is different from feature selection in that feature extraction combines all feature information into newly-created features without completely eliminating low-contributing features (e.g. PCA, NMF, kernel PCA, Graph-based kernel PCA etc.). <br>\n",
    "\n",
    "## What we are using:\n",
    "* **Lasso** - a **feature selection** method that uses cross-validation LASSO regression to filter out un-important features <br>\n",
    "* **PCA** - a **feature extraction** method uses the correlation between some dimensions and tries to provide a minimum number of variables that keeps the maximum amount of variation or information about how the original data is distributed. <br>\n",
    "* **t-SNE** - a **dimensionality reduction** method that maps multi-dimensional data to a lower dimensional space (typcially 2 or 3), by constructing pairwise probability distribution, modeling similar objects then minimizing KL divergence between original data and lower-dimensional data. This is mainly used for visualizing high-dimensional data, not for feeding directly into models. <br>"
   ]
  },
  {
   "cell_type": "code",
   "execution_count": 2,
   "metadata": {},
   "outputs": [],
   "source": [
    "def lassoSelection(X_train, y_train, n):\n",
    "    '''\n",
    "    Lasso feature selection.  Select n features. \n",
    "    '''\n",
    "    #lasso feature selection\n",
    "    #print (X_train)\n",
    "    clf = LassoCV(max_iter=10000,tol=0.001)\n",
    "    sfm = SelectFromModel(clf,threshold=0)\n",
    "    sfm.fit(X_train, y_train)\n",
    "    X_transform = sfm.transform(X_train)\n",
    "    n_features = X_transform.shape[1]\n",
    "\n",
    "    # \tprint(\"n_features=\",n_features)\n",
    "    #print(n_features)\n",
    "    while n_features > n:\n",
    "        sfm.threshold += 0.01\n",
    "        X_transform = sfm.transform(X_train)\n",
    "        n_features = X_transform.shape[1]\n",
    "        print (\"n_features =\",n_features)\n",
    "    features = [index for index,value in enumerate(sfm.get_support()) if value == True  ]\n",
    "    logger.info(\"selected features are {}\".format(features))\n",
    "    logger.info(\"Features selected from Lasso using SelectFromModel with threshold {:6.4f}\".format(sfm.threshold))\n",
    "    return features"
   ]
  },
  {
   "cell_type": "code",
   "execution_count": 3,
   "metadata": {},
   "outputs": [],
   "source": [
    "def pcaSelection(X_train, X_test, n):\n",
    "    '''\n",
    "    PCA feature selection.  Select n features. \n",
    "    '''\n",
    "    pca = PCA(n_components=n)\n",
    "    pca.fit(X_train)\n",
    "    X_train_new = pca.transform(X_train)\n",
    "    X_test_new = pca.transform(X_test)\n",
    "    logger.info(\"X_train size after PCA: {}\".format(X_train_new.shape))\n",
    "    logger.info(\"X_test size after PCA: {}\".format(X_test_new.shape))\n",
    "    logger.info(\"Cumulative explained variation for {} principal components: {:6.4f}\".format(n,np.sum(pca.explained_variance_ratio_)))\n",
    "    return [X_train_new,X_test_new]"
   ]
  },
  {
   "cell_type": "code",
   "execution_count": 4,
   "metadata": {},
   "outputs": [],
   "source": [
    "def tsneSelection(X_train, n, v):\n",
    "    '''\n",
    "    t-distributed Stochastic Neighbor Embedding feature selection.  Select n features.\n",
    "    Input:\n",
    "    X_train - dataset with dimension [P-samples x Q-features]\n",
    "    n - number of desired features after feature reduction\n",
    "    v - 1 for verbose, 0 for slience\n",
    "    Output:\n",
    "    X_train_new - dataset with dimension [P-samples x n-features] \n",
    "    '''\n",
    "    tsne = TSNE(n_components=n,verbose=v)\n",
    "    X_train_new = tsne.fit_transform(X_train)\n",
    "    logger.info(\"X_train size after tSNE: {}\".format(X_train_new.shape))\n",
    "    return X_train_new"
   ]
  },
  {
   "cell_type": "markdown",
   "metadata": {},
   "source": [
    "# Scatter Plot Helpers\n",
    "**2D Scatter Plot** - graph multi-class data with 2 features in a 2D plot<br>\n",
    "**3D Scatter Plot** - graph multi-class data with 3 features in a 3D plot<br>"
   ]
  },
  {
   "cell_type": "code",
   "execution_count": 17,
   "metadata": {},
   "outputs": [],
   "source": [
    "# Scatter plot 2D & 3D\n",
    "num_class = 36\n",
    "colors = it.cycle([\"aquamarine\", \"crimson\", \"darkseagreen\", \"deeppink\",\"wheat\",\"violet\",\"fuchsia\",\"turquoise\",\\\n",
    "                   \"ivory\", \"honeydew\", \"rosybrown\",\"red\",\"lemonchiffon\",\"darkorchid\",\"mintcream\",\"papayawhip\",\\\n",
    "                   \"beige\",\"darkcyan\",\"firebrick\",\"deepskyblue\",\"seashell\",\"mediumpurple\",\"goldenrod\",\"lightcoral\",\\\n",
    "                   \"limegreen\",\"cadetblue\",\"darkmagenta\",\"ghostwhite\",\"gainsboro\",\"paleturquoise\",\"teal\",\"peru\",\\\n",
    "                  \"maroon\",\"olivedrab\",\"springgreen\",\"yellowgreen\"])\n",
    "classes = it.cycle(['Normal','Breast', 'Uterine Corpus', 'Head', 'Kidney Renal Clear', 'Lung Adenocarcinoma', 'Brain', 'Thyroid', 'Prostate', 'Ovarian', 'Lung Squamous', 'Skin', 'Colon', 'Stomach', 'Bladder', 'Liver', 'Cervical', 'Kidney Renal Papillary', 'Leukemia', 'Sarcoma', 'Esophageal', 'Pheochromocytoma', 'Pancreatic', 'Rectum', 'Testicular', 'Wilms', 'Thymoma', 'Mesothelioma', 'Adrenocortical', 'Uveal', 'Kidney Chromophobe', 'Uterine Carcinosarcoma', 'Lymphoid', 'Rhabdoid', 'Cholangiocarcinoma'])\n",
    "\n",
    "classes_labels = ['Normal','Breast', 'Uterine Corpus', 'Head', 'Kidney Renal Clear', 'Lung Adenocarcinoma', 'Brain', 'Thyroid', 'Prostate', 'Ovarian', 'Lung Squamous', 'Skin', 'Colon', 'Stomach', 'Bladder', 'Liver', 'Cervical', 'Kidney Renal Papillary', 'Leukemia', 'Sarcoma', 'Esophageal', 'Pheochromocytoma', 'Pancreatic', 'Rectum', 'Testicular', 'Wilms', 'Thymoma', 'Mesothelioma', 'Adrenocortical', 'Uveal', 'Kidney Chromophobe', 'Uterine Carcinosarcoma', 'Lymphoid', 'Rhabdoid', 'Cholangiocarcinoma']\n",
    "\n",
    "def scatter2D(X_train_2d):\n",
    "    '''\n",
    "    Function to genrate traces for 2D scatter plot\n",
    "    Args: 2-feature X_train of dimension [?,2]\n",
    "    Return: list of scatter plot trace objects\n",
    "    '''\n",
    "    data=[]\n",
    "    for label in range(0,num_class):\n",
    "        filtered_idx = np.argwhere(y_train==label)[:,0]\n",
    "        trace = go.Scatter(\n",
    "            x=X_train_2d[filtered_idx,0],\n",
    "            y=X_train_2d[filtered_idx,1],\n",
    "            mode='markers',\n",
    "            marker=dict(\n",
    "                size=5,\n",
    "                line=dict(\n",
    "                    color=next(colors),\n",
    "                    width=0.1\n",
    "                    ),\n",
    "                opacity=0.5\n",
    "                ),\n",
    "            name=next(classes)\n",
    "            )\n",
    "        data.append(trace)\n",
    "    return data\n",
    "\n",
    "\n",
    "def scatter3D(X_train_3d):\n",
    "    '''\n",
    "    Function to generate traces for 3D scatter plot\n",
    "    Args: 3-feature X_train of dimension [?,3]\n",
    "    ReturnL list of scatter plot trace objects\n",
    "    '''\n",
    "    data=[]\n",
    "    for label in range(0,num_class):\n",
    "        filtered_idx = np.argwhere(y_train==label)[:,0]\n",
    "        trace = go.Scatter3d(\n",
    "            x=X_train_3d[filtered_idx,0],\n",
    "            y=X_train_3d[filtered_idx,1],\n",
    "            z=X_train_3d[filtered_idx,2],\n",
    "            mode='markers',\n",
    "            marker=dict(\n",
    "                size=5,\n",
    "                line=dict(\n",
    "                    color=next(colors),\n",
    "                    width=0.1\n",
    "                    ),\n",
    "                opacity=0.5\n",
    "                ),\n",
    "            name=next(classes)\n",
    "            )\n",
    "        data.append(trace)\n",
    "    return data"
   ]
  },
  {
   "attachments": {},
   "cell_type": "markdown",
   "metadata": {},
   "source": [
    "# Model Helper\n",
    "\n",
    "## Estimators\n",
    "### Linear Estimators - model based on generalized linear models\n",
    "* **Logistic Regresion** - uses the natural logarithm function to model relationship between the variables and uses test data to find the coefficients.<br>\n",
    "\n",
    "### Ensemble Estimators\n",
    "**In a nutshell** - weighted combinations of simple predictors(e.g. one-level decision trees), correct predictor is given more weight. Boosting algorithms focuses new learners on sample points that previous predictors get wrong. <br>\n",
    "\n",
    "* **Random Forest Classifier** - divides data into sub-samples and construct a binary decision trees for each set of sub-samples. Gini optimizer is used to find the best \"split\" for each decision junction. Validation or test data is then pass through the decision tree, which outputs probablity for each class. These probabilities of each tree is then averaged for a final classification decision. <br>\n",
    "* **Extra Trees Classifier** - similar to Random Forest, but a random value is selected for each split <br>\n",
    "* **AdaBoost Classifier** - Uses N number of 1-level decision tree (optimized by Gini Impurity cost function) as base classifier. Wrongly-predicted samples are given larger weights for the next round of decsion tree optimization. Incorrect classifiers' contribution is shrinked by learning_rate. At the end, the final classifer is a weighted combination of all n estimators.\n",
    " * By setting high number of estimaters, and low learning rate, the model will converge with high accuracy at the expense of long computation time. <br>\n",
    "* **Gradient Boosting Classifier** - use simple regression estimator to fit data, use error residual(MSE) to iteratively fit training data. Simple regressors are added up in a stage-wise fashion to get a complex regression model. <br>\n",
    "\n",
    "### SVN Estimator - binary linear classifier by a separating hyperplane\n",
    "* **SVC** with RBF (radial basis function) kernel – uses squared Euclidean distance <br>\n",
    "\n",
    "### Neural Network Estimator - model based on neural networks\n",
    "* **Multi-Layer Perceptron (MLP) Classifier** - feedforward artificial neural network, optimizes log-loss! <br>\n",
    "\n",
    "## K-fold Hyperparameter selection\n",
    "**GridSearchCV** - exhaustively predicts and scores all parameter combinations for an estimator"
   ]
  },
  {
   "cell_type": "code",
   "execution_count": 113,
   "metadata": {},
   "outputs": [],
   "source": [
    "def model_fit_predict(X_train,X_test,y_train,y_test,v):\n",
    "\n",
    "    # np.random.seed(2018)\n",
    "    from sklearn.linear_model import LogisticRegression\n",
    "    from sklearn.ensemble import RandomForestClassifier\n",
    "    from sklearn.ensemble import AdaBoostClassifier\n",
    "    from sklearn.tree import DecisionTreeClassifier\n",
    "    from sklearn.ensemble import GradientBoostingClassifier\n",
    "    from sklearn.ensemble import ExtraTreesClassifier\n",
    "    from sklearn.svm import SVC\n",
    "    from sklearn.neural_network import MLPClassifier\n",
    "    from sklearn.metrics import precision_score\n",
    "    from sklearn.metrics import accuracy_score\n",
    "    from sklearn.metrics import f1_score\n",
    "    from sklearn.metrics import recall_score\n",
    "    from sklearn.preprocessing import label_binarize\n",
    "    models = {\n",
    "        'LogisticRegression': LogisticRegression(random_state=0, multi_class='ovr',solver='lbfgs',max_iter=10000,tol=0.001,verbose=v),\n",
    "        'ExtraTreesClassifier': ExtraTreesClassifier(random_state=0, verbose=v),\n",
    "        'RandomForestClassifier': RandomForestClassifier(random_state=0, verbose=v),\n",
    "        'AdaBoostClassifier': AdaBoostClassifier(DecisionTreeClassifier(max_depth=2),random_state=0),\n",
    "        'GradientBoostingClassifier': GradientBoostingClassifier(n_estimators = 5000, random_state=0, n_iter_no_change=10, verbose=v),\n",
    "        'SVC': SVC(random_state=0, decision_function_shape='ovo',max_iter=10000,tol=0.001,verbose=v),\n",
    "        'MLP':MLPClassifier(random_state=0, hidden_layer_sizes=(500,100,50),solver='adam',max_iter=1000,verbose=v,\\\n",
    "                            learning_rate ='adaptive',activation='relu')\n",
    "    }\n",
    "    tuned_parameters = {\n",
    "        'LogisticRegression':{'C': [0.25,0.5,1]},\n",
    "        'ExtraTreesClassifier': { 'n_estimators': [200,500,700,1000] },\n",
    "        'RandomForestClassifier': { 'n_estimators': [200,500,1000,5000],'min_samples_leaf': [1,2,3]},\n",
    "        'AdaBoostClassifier': { 'n_estimators': [500,1000,5000],'learning_rate': [0.05,0.2, 0.7]},\n",
    "        'GradientBoostingClassifier': { 'learning_rate': [0.05,0.2, 0.7] },\n",
    "        'SVC': { 'kernel': ['rbf'], 'C': [1, 10], 'gamma': [0.001, 0.0001] },\n",
    "        'MLP':{ 'batch_size':[50,200],'alpha':[0.0001,0.005,0.01],'tol':[0.01,0.001,0.0001]}\n",
    "    }\n",
    "    accuracies= {}\n",
    "    confusion_mat = {}\n",
    "    report = {}\n",
    "    fpr_all = {}\n",
    "    tpr_all ={}\n",
    "    for key in models:\n",
    "        print(\"Running\",key,\"...\")\n",
    "        clf = GridSearchCV(models[key], tuned_parameters[key], scoring=None,  refit=True, cv=2, verbose=v)\n",
    "        clf.fit(X_train,y_train)\n",
    "        print(clf.best_params_)\n",
    "        # Compute Metrics\n",
    "        y_test_predict = clf.predict(X_test)\n",
    "        accuracy = accuracy_score(y_test, y_test_predict) #subset accuracy \n",
    "        accuracies[key] = accuracy\n",
    "        confusion_mat[key]=confusion_matrix(y_test,y_test_predict)\n",
    "        report[key]= classification_report(y_test,y_test_predict,target_names=classes_labels)\n",
    "        # Compute ROC curve and ROC area for each class\n",
    "        fpr = dict()\n",
    "        tpr = dict()\n",
    "        y_test_bin = label_binarize(y_test, classes=[0,1,2,3,4,5,6,7,8,9,10,11,12,13,14,15,16,17,18,19,20,21,22,23,24,25,26,27,28,29,30,31,32,33,34,35])\n",
    "        y_test_predict_bin = label_binarize(y_test_predict, classes=[0,1,2,3,4,5,6,7,8,9,10,11,12,13,14,15,16,17,18,19,20,21,22,23,24,25,26,27,28,29,30,31,32,33,34,35])  \n",
    "        for i in range(0,num_class-1):\n",
    "            fpr[i], tpr[i], _ = roc_curve(y_test_bin[:,i], y_test_predict_bin[:,i])\n",
    "        fpr[\"micro\"], tpr[\"micro\"], _ = roc_curve(y_test_bin.ravel(), y_test_predict_bin.ravel())\n",
    "        fpr_all[key]=fpr\n",
    "        tpr_all[key]=tpr\n",
    "        print(accuracies[key])\n",
    "        print(confusion_mat[key])\n",
    "        print(report[key])\n",
    "    return accuracies, confusion_mat, report, fpr_all, tpr_all"
   ]
  },
  {
   "cell_type": "markdown",
   "metadata": {},
   "source": [
    "# Pre-process Data\n",
    "1. **Separate X (features) and y (labels)** <br>\n",
    "2. **Split training (70%) and testing (30%) dataset** <br>\n",
    "3. **Standardize data** - scale features such that they are:\n",
    "  1. zero-mean\n",
    "  2. one-variance"
   ]
  },
  {
   "cell_type": "code",
   "execution_count": 7,
   "metadata": {},
   "outputs": [
    {
     "name": "stderr",
     "output_type": "stream",
     "text": [
      "[2018-10-22 17:42:10,616 - GDC - INFO] Original dataset size: 11486\n",
      "[2018-10-22 17:42:10,619 - GDC - INFO] Total feature num: 1881\n",
      "[2018-10-22 17:42:11,902 - GDC - INFO] Training dataset size: 8040\n",
      "[2018-10-22 17:42:11,903 - GDC - INFO] Testing dataset size: 3446\n",
      "[2018-10-22 17:42:12,893 - GDC - INFO] Mean of X-data features before standardization: 2458.7368\n",
      "[2018-10-22 17:42:13,228 - GDC - INFO] STD of X-data features before standardization: 4450.1113\n",
      "[2018-10-22 17:42:13,250 - GDC - INFO] Mean of X-train features after standardization: -0.0000\n",
      "[2018-10-22 17:42:13,400 - GDC - INFO] STD of X-train features after standardization: 0.9351\n",
      "[2018-10-22 17:42:13,409 - GDC - INFO] Mean of X-test features after standardization: -0.0069\n",
      "[2018-10-22 17:42:13,461 - GDC - INFO] STD of X-test features after standardization: 0.9125\n"
     ]
    }
   ],
   "source": [
    "data_file = \"../data/miRNA.csv\" # directory to miRNA_matrix.csv\n",
    "\n",
    "# Get dataset from csv\n",
    "df = pd.read_csv(data_file)\n",
    "y_data = df.pop('label').values\n",
    "df.pop('file_id')\n",
    "columns =df.columns\n",
    "X_data = df.values\n",
    "num_features_orig = X_data.shape[1]\n",
    "logger.info(\"Original dataset size: {}\".format(X_data.shape[0]))\n",
    "logger.info(\"Total feature num: {}\".format(num_features_orig))\n",
    "\n",
    "# split the data to train and test set\n",
    "X_train, X_test, y_train, y_test = train_test_split(X_data, y_data, test_size=0.3, random_state=0)\n",
    "\n",
    "\n",
    "logger.info(\"Training dataset size: {}\".format(X_train.shape[0]))\n",
    "logger.info(\"Testing dataset size: {}\".format(X_test.shape[0]))\n",
    "# # standardize the data (zero-mean,uniform variance)\n",
    "scaler = StandardScaler().fit(X_train.astype(np.float64))\n",
    "X_train = scaler.transform(X_train.astype(np.float64))\n",
    "X_test = scaler.transform(X_test.astype(np.float64))\n",
    "logger.info(\"Mean of X-data features before standardization: {:6.4f}\".format(sum(X_data.mean(axis=0))/num_features_orig))\n",
    "logger.info(\"STD of X-data features before standardization: {:6.4f}\".format(sum(X_data.std(axis=0))/num_features_orig))\n",
    "logger.info(\"Mean of X-train features after standardization: {:6.4f}\".format(sum(X_train.mean(axis=0))/num_features_orig))\n",
    "logger.info(\"STD of X-train features after standardization: {:6.4f}\".format(sum(X_train.std(axis=0))/num_features_orig))\n",
    "logger.info(\"Mean of X-test features after standardization: {:6.4f}\".format(sum(X_test.mean(axis=0))/num_features_orig))\n",
    "logger.info(\"STD of X-test features after standardization: {:6.4f}\".format(sum(X_test.std(axis=0))/num_features_orig))\n",
    "\n",
    "# Define Graph layout\n",
    "layout = go.Layout(\n",
    "    margin=dict(\n",
    "        l=0,\n",
    "        r=0,\n",
    "        b=0,\n",
    "        t=0\n",
    "        )\n",
    ")"
   ]
  },
  {
   "cell_type": "markdown",
   "metadata": {},
   "source": [
    "# Fit Model after LASSO-Selected Features"
   ]
  },
  {
   "cell_type": "code",
   "execution_count": null,
   "metadata": {},
   "outputs": [],
   "source": [
    "# LASSO feature selection\n",
    "n = 50\n",
    "feaures_columns = lassoSelection(X_train, y_train, n)\n",
    "# feaures_columns = [25, 92, 119, 163, 166, 168, 181, 187, 194, 216, 240, 241, 248, \\\n",
    "# 253, 271, 272, 273, 282, 285, 287, 295, 305, 306, 336, 337, 339, 341, 351, 352, 488, \\\n",
    "# 495, 503, 511, 544, 588, 593, 641, 764, 1063, 1090, 1100, 1126, 1395, 1461, 1509, 1523, 1834, 1848, 1872]\n",
    "scores_lasso, mat_lasso, report_lasso, fpr_lasso, tpr_lasso = model_fit_predict(X_train[:,feaures_columns],X_test[:,feaures_columns],y_train,y_test,1)"
   ]
  },
  {
   "cell_type": "markdown",
   "metadata": {},
   "source": [
    "# Fit Model with PCA-Reduced Features"
   ]
  },
  {
   "cell_type": "code",
   "execution_count": null,
   "metadata": {
    "scrolled": false
   },
   "outputs": [
    {
     "name": "stderr",
     "output_type": "stream",
     "text": [
      "[2018-10-22 22:58:50,686 - GDC - INFO] X_train size after PCA: (8040, 50)\n",
      "[2018-10-22 22:58:50,688 - GDC - INFO] X_test size after PCA: (3446, 50)\n",
      "[2018-10-22 22:58:50,690 - GDC - INFO] Cumulative explained variation for 50 principal components: 0.3773\n",
      "[Parallel(n_jobs=1)]: Using backend SequentialBackend with 1 concurrent workers.\n",
      "[Parallel(n_jobs=-1)]: Using backend SequentialBackend with 1 concurrent workers.\n"
     ]
    },
    {
     "name": "stdout",
     "output_type": "stream",
     "text": [
      "Running LogisticRegression ...\n",
      "Fitting 2 folds for each of 3 candidates, totalling 6 fits\n"
     ]
    },
    {
     "name": "stderr",
     "output_type": "stream",
     "text": [
      "[Parallel(n_jobs=-1)]: Done  35 out of  35 | elapsed:    3.4s finished\n",
      "[Parallel(n_jobs=-1)]: Using backend SequentialBackend with 1 concurrent workers.\n",
      "[Parallel(n_jobs=-1)]: Done  35 out of  35 | elapsed:    3.9s finished\n",
      "[Parallel(n_jobs=-1)]: Using backend SequentialBackend with 1 concurrent workers.\n",
      "[Parallel(n_jobs=-1)]: Done  35 out of  35 | elapsed:    4.3s finished\n",
      "[Parallel(n_jobs=-1)]: Using backend SequentialBackend with 1 concurrent workers.\n",
      "[Parallel(n_jobs=-1)]: Done  35 out of  35 | elapsed:    3.2s finished\n",
      "[Parallel(n_jobs=-1)]: Using backend SequentialBackend with 1 concurrent workers.\n",
      "[Parallel(n_jobs=-1)]: Done  35 out of  35 | elapsed:    3.6s finished\n",
      "[Parallel(n_jobs=-1)]: Using backend SequentialBackend with 1 concurrent workers.\n",
      "[Parallel(n_jobs=-1)]: Done  35 out of  35 | elapsed:    4.4s finished\n",
      "[Parallel(n_jobs=1)]: Done   6 out of   6 | elapsed:   22.9s finished\n",
      "[Parallel(n_jobs=1)]: Using backend SequentialBackend with 1 concurrent workers.\n",
      "[Parallel(n_jobs=1)]: Done  35 out of  35 | elapsed:    7.1s finished\n",
      "[Parallel(n_jobs=1)]: Using backend SequentialBackend with 1 concurrent workers.\n",
      "[Parallel(n_jobs=-1)]: Using backend SequentialBackend with 1 concurrent workers.\n"
     ]
    },
    {
     "name": "stdout",
     "output_type": "stream",
     "text": [
      "{'C': 0.25}\n",
      "0.8528728961114336\n",
      "[[154   3   1 ...   0   0   0]\n",
      " [  1 303   6 ...   0   0   0]\n",
      " [  2   2 156 ...   0   0   0]\n",
      " ...\n",
      " [  0   0   0 ...  13   0   0]\n",
      " [  0   1   0 ...   0  21   0]\n",
      " [  1   0   1 ...   0   0   3]]\n",
      "                        precision    recall  f1-score   support\n",
      "\n",
      "                Normal       0.82      0.77      0.79       201\n",
      "                Breast       0.90      0.94      0.92       324\n",
      "        Uterine Corpus       0.85      0.90      0.87       174\n",
      "                  Head       0.68      0.78      0.73       152\n",
      "    Kidney Renal Clear       0.92      0.97      0.94       155\n",
      "   Lung Adenocarcinoma       0.81      0.81      0.81       162\n",
      "                 Brain       0.98      1.00      0.99       170\n",
      "               Thyroid       0.98      0.99      0.99       149\n",
      "              Prostate       0.96      0.99      0.97       155\n",
      "               Ovarian       0.99      0.95      0.97       146\n",
      "         Lung Squamous       0.68      0.73      0.71       142\n",
      "                  Skin       0.95      0.97      0.96       128\n",
      "                 Colon       0.63      0.90      0.74       127\n",
      "               Stomach       0.61      0.68      0.64       134\n",
      "               Bladder       0.86      0.69      0.76       129\n",
      "                 Liver       0.92      0.93      0.92       107\n",
      "              Cervical       0.68      0.61      0.64        92\n",
      "Kidney Renal Papillary       0.85      0.90      0.87        92\n",
      "              Leukemia       0.99      1.00      1.00       114\n",
      "               Sarcoma       0.84      0.89      0.86        88\n",
      "            Esophageal       0.57      0.21      0.31        57\n",
      "      Pheochromocytoma       0.99      1.00      0.99        69\n",
      "            Pancreatic       0.80      0.79      0.80        62\n",
      "                Rectum       0.77      0.20      0.31        51\n",
      "            Testicular       1.00      0.98      0.99        41\n",
      "                 Wilms       0.97      1.00      0.99        39\n",
      "               Thymoma       0.96      0.96      0.96        27\n",
      "          Mesothelioma       0.88      0.58      0.70        26\n",
      "        Adrenocortical       1.00      0.83      0.90        23\n",
      "                 Uveal       0.91      0.91      0.91        23\n",
      "    Kidney Chromophobe       0.95      0.86      0.90        22\n",
      "Uterine Carcinosarcoma       0.77      0.71      0.74        14\n",
      "              Lymphoid       0.87      0.93      0.90        14\n",
      "              Rhabdoid       1.00      0.95      0.98        22\n",
      "    Cholangiocarcinoma       0.75      0.20      0.32        15\n",
      "\n",
      "             micro avg       0.85      0.85      0.85      3446\n",
      "             macro avg       0.86      0.81      0.82      3446\n",
      "          weighted avg       0.85      0.85      0.85      3446\n",
      "\n",
      "Running ExtraTreesClassifier ...\n",
      "Fitting 2 folds for each of 4 candidates, totalling 8 fits\n"
     ]
    },
    {
     "name": "stderr",
     "output_type": "stream",
     "text": [
      "[Parallel(n_jobs=-1)]: Done 200 out of 200 | elapsed:    2.3s finished\n",
      "[Parallel(n_jobs=1)]: Using backend SequentialBackend with 1 concurrent workers.\n",
      "[Parallel(n_jobs=1)]: Done 200 out of 200 | elapsed:    0.5s finished\n",
      "[Parallel(n_jobs=1)]: Using backend SequentialBackend with 1 concurrent workers.\n",
      "[Parallel(n_jobs=1)]: Done 200 out of 200 | elapsed:    0.4s finished\n",
      "[Parallel(n_jobs=-1)]: Using backend SequentialBackend with 1 concurrent workers.\n",
      "[Parallel(n_jobs=-1)]: Done 200 out of 200 | elapsed:    2.0s finished\n",
      "[Parallel(n_jobs=1)]: Using backend SequentialBackend with 1 concurrent workers.\n",
      "[Parallel(n_jobs=1)]: Done 200 out of 200 | elapsed:    0.5s finished\n",
      "[Parallel(n_jobs=1)]: Using backend SequentialBackend with 1 concurrent workers.\n",
      "[Parallel(n_jobs=1)]: Done 200 out of 200 | elapsed:    0.4s finished\n",
      "[Parallel(n_jobs=-1)]: Using backend SequentialBackend with 1 concurrent workers.\n",
      "[Parallel(n_jobs=-1)]: Done 500 out of 500 | elapsed:    5.1s finished\n",
      "[Parallel(n_jobs=1)]: Using backend SequentialBackend with 1 concurrent workers.\n",
      "[Parallel(n_jobs=1)]: Done 500 out of 500 | elapsed:    1.2s finished\n",
      "[Parallel(n_jobs=1)]: Using backend SequentialBackend with 1 concurrent workers.\n",
      "[Parallel(n_jobs=1)]: Done 500 out of 500 | elapsed:    1.1s finished\n",
      "[Parallel(n_jobs=-1)]: Using backend SequentialBackend with 1 concurrent workers.\n",
      "[Parallel(n_jobs=-1)]: Done 500 out of 500 | elapsed:    6.2s finished\n",
      "[Parallel(n_jobs=1)]: Using backend SequentialBackend with 1 concurrent workers.\n",
      "[Parallel(n_jobs=1)]: Done 500 out of 500 | elapsed:    1.0s finished\n",
      "[Parallel(n_jobs=1)]: Using backend SequentialBackend with 1 concurrent workers.\n",
      "[Parallel(n_jobs=1)]: Done 500 out of 500 | elapsed:    1.0s finished\n",
      "[Parallel(n_jobs=-1)]: Using backend SequentialBackend with 1 concurrent workers.\n",
      "[Parallel(n_jobs=-1)]: Done 700 out of 700 | elapsed:    8.5s finished\n",
      "[Parallel(n_jobs=1)]: Using backend SequentialBackend with 1 concurrent workers.\n",
      "[Parallel(n_jobs=1)]: Done 700 out of 700 | elapsed:    2.5s finished\n",
      "[Parallel(n_jobs=1)]: Using backend SequentialBackend with 1 concurrent workers.\n",
      "[Parallel(n_jobs=1)]: Done 700 out of 700 | elapsed:    2.1s finished\n",
      "[Parallel(n_jobs=-1)]: Using backend SequentialBackend with 1 concurrent workers.\n",
      "[Parallel(n_jobs=-1)]: Done 700 out of 700 | elapsed:    8.0s finished\n",
      "[Parallel(n_jobs=1)]: Using backend SequentialBackend with 1 concurrent workers.\n",
      "[Parallel(n_jobs=1)]: Done 700 out of 700 | elapsed:    1.7s finished\n",
      "[Parallel(n_jobs=1)]: Using backend SequentialBackend with 1 concurrent workers.\n",
      "[Parallel(n_jobs=1)]: Done 700 out of 700 | elapsed:    1.6s finished\n",
      "[Parallel(n_jobs=-1)]: Using backend SequentialBackend with 1 concurrent workers.\n",
      "[Parallel(n_jobs=-1)]: Done 1000 out of 1000 | elapsed:   11.1s finished\n",
      "[Parallel(n_jobs=1)]: Using backend SequentialBackend with 1 concurrent workers.\n",
      "[Parallel(n_jobs=1)]: Done 1000 out of 1000 | elapsed:    4.6s finished\n",
      "[Parallel(n_jobs=1)]: Using backend SequentialBackend with 1 concurrent workers.\n",
      "[Parallel(n_jobs=1)]: Done 1000 out of 1000 | elapsed:    1.8s finished\n",
      "[Parallel(n_jobs=-1)]: Using backend SequentialBackend with 1 concurrent workers.\n",
      "[Parallel(n_jobs=-1)]: Done 1000 out of 1000 | elapsed:    9.9s finished\n",
      "[Parallel(n_jobs=1)]: Using backend SequentialBackend with 1 concurrent workers.\n",
      "[Parallel(n_jobs=1)]: Done 1000 out of 1000 | elapsed:    2.2s finished\n",
      "[Parallel(n_jobs=1)]: Using backend SequentialBackend with 1 concurrent workers.\n",
      "[Parallel(n_jobs=1)]: Done 1000 out of 1000 | elapsed:    1.9s finished\n",
      "[Parallel(n_jobs=1)]: Done   8 out of   8 | elapsed:  1.4min finished\n",
      "[Parallel(n_jobs=1)]: Using backend SequentialBackend with 1 concurrent workers.\n",
      "[Parallel(n_jobs=1)]: Done 1000 out of 1000 | elapsed:   24.5s finished\n",
      "[Parallel(n_jobs=1)]: Using backend SequentialBackend with 1 concurrent workers.\n"
     ]
    },
    {
     "name": "stdout",
     "output_type": "stream",
     "text": [
      "{'n_estimators': 1000}\n"
     ]
    },
    {
     "name": "stderr",
     "output_type": "stream",
     "text": [
      "[Parallel(n_jobs=1)]: Done 1000 out of 1000 | elapsed:    5.3s finished\n",
      "/Users/karenhillarywang/miniconda3/envs/gdc_project/lib/python3.7/site-packages/sklearn/metrics/classification.py:1143: UndefinedMetricWarning:\n",
      "\n",
      "Precision and F-score are ill-defined and being set to 0.0 in labels with no predicted samples.\n",
      "\n"
     ]
    },
    {
     "name": "stdout",
     "output_type": "stream",
     "text": [
      "0.8345908299477656\n",
      "[[157   5   0 ...   0   0   0]\n",
      " [  3 299   4 ...   0   0   0]\n",
      " [  5   5 149 ...   0   0   0]\n",
      " ...\n",
      " [  0   0   0 ...  14   0   0]\n",
      " [  0   0   0 ...   0  22   0]\n",
      " [  0   0   2 ...   1   0   0]]\n",
      "                        precision    recall  f1-score   support\n",
      "\n",
      "                Normal       0.82      0.78      0.80       201\n",
      "                Breast       0.83      0.92      0.87       324\n",
      "        Uterine Corpus       0.83      0.86      0.84       174\n",
      "                  Head       0.60      0.84      0.70       152\n",
      "    Kidney Renal Clear       0.89      0.95      0.92       155\n",
      "   Lung Adenocarcinoma       0.78      0.81      0.80       162\n",
      "                 Brain       0.99      0.99      0.99       170\n",
      "               Thyroid       0.97      0.97      0.97       149\n",
      "              Prostate       0.97      0.99      0.98       155\n",
      "               Ovarian       0.97      0.95      0.96       146\n",
      "         Lung Squamous       0.68      0.75      0.71       142\n",
      "                  Skin       0.98      0.96      0.97       128\n",
      "                 Colon       0.59      0.88      0.71       127\n",
      "               Stomach       0.62      0.72      0.67       134\n",
      "               Bladder       0.81      0.64      0.72       129\n",
      "                 Liver       0.94      0.94      0.94       107\n",
      "              Cervical       0.76      0.30      0.43        92\n",
      "Kidney Renal Papillary       0.88      0.90      0.89        92\n",
      "              Leukemia       0.99      1.00      1.00       114\n",
      "               Sarcoma       0.80      0.85      0.82        88\n",
      "            Esophageal       0.67      0.04      0.07        57\n",
      "      Pheochromocytoma       0.92      0.99      0.95        69\n",
      "            Pancreatic       0.79      0.68      0.73        62\n",
      "                Rectum       1.00      0.18      0.30        51\n",
      "            Testicular       0.95      0.98      0.96        41\n",
      "                 Wilms       0.89      1.00      0.94        39\n",
      "               Thymoma       1.00      0.96      0.98        27\n",
      "          Mesothelioma       1.00      0.38      0.56        26\n",
      "        Adrenocortical       1.00      0.78      0.88        23\n",
      "                 Uveal       0.92      0.96      0.94        23\n",
      "    Kidney Chromophobe       0.90      0.82      0.86        22\n",
      "Uterine Carcinosarcoma       1.00      0.43      0.60        14\n",
      "              Lymphoid       0.74      1.00      0.85        14\n",
      "              Rhabdoid       1.00      1.00      1.00        22\n",
      "    Cholangiocarcinoma       0.00      0.00      0.00        15\n",
      "\n",
      "             micro avg       0.83      0.83      0.83      3446\n",
      "             macro avg       0.84      0.78      0.78      3446\n",
      "          weighted avg       0.84      0.83      0.82      3446\n",
      "\n",
      "Running RandomForestClassifier ...\n",
      "Fitting 2 folds for each of 12 candidates, totalling 24 fits\n"
     ]
    },
    {
     "name": "stderr",
     "output_type": "stream",
     "text": [
      "[Parallel(n_jobs=1)]: Using backend SequentialBackend with 1 concurrent workers.\n",
      "[Parallel(n_jobs=-1)]: Using backend SequentialBackend with 1 concurrent workers.\n",
      "[Parallel(n_jobs=-1)]: Done 200 out of 200 | elapsed:    6.9s finished\n",
      "[Parallel(n_jobs=1)]: Using backend SequentialBackend with 1 concurrent workers.\n",
      "[Parallel(n_jobs=1)]: Done 200 out of 200 | elapsed:    0.3s finished\n",
      "[Parallel(n_jobs=1)]: Using backend SequentialBackend with 1 concurrent workers.\n",
      "[Parallel(n_jobs=1)]: Done 200 out of 200 | elapsed:    0.3s finished\n",
      "[Parallel(n_jobs=-1)]: Using backend SequentialBackend with 1 concurrent workers.\n",
      "[Parallel(n_jobs=-1)]: Done 200 out of 200 | elapsed:    6.7s finished\n",
      "[Parallel(n_jobs=1)]: Using backend SequentialBackend with 1 concurrent workers.\n",
      "[Parallel(n_jobs=1)]: Done 200 out of 200 | elapsed:    0.3s finished\n",
      "[Parallel(n_jobs=1)]: Using backend SequentialBackend with 1 concurrent workers.\n",
      "[Parallel(n_jobs=1)]: Done 200 out of 200 | elapsed:    0.3s finished\n",
      "[Parallel(n_jobs=-1)]: Using backend SequentialBackend with 1 concurrent workers.\n",
      "[Parallel(n_jobs=-1)]: Done 500 out of 500 | elapsed:   16.7s finished\n",
      "[Parallel(n_jobs=1)]: Using backend SequentialBackend with 1 concurrent workers.\n",
      "[Parallel(n_jobs=1)]: Done 500 out of 500 | elapsed:    0.9s finished\n",
      "[Parallel(n_jobs=1)]: Using backend SequentialBackend with 1 concurrent workers.\n",
      "[Parallel(n_jobs=1)]: Done 500 out of 500 | elapsed:    0.8s finished\n",
      "[Parallel(n_jobs=-1)]: Using backend SequentialBackend with 1 concurrent workers.\n",
      "[Parallel(n_jobs=-1)]: Done 500 out of 500 | elapsed:   17.0s finished\n",
      "[Parallel(n_jobs=1)]: Using backend SequentialBackend with 1 concurrent workers.\n",
      "[Parallel(n_jobs=1)]: Done 500 out of 500 | elapsed:    0.8s finished\n",
      "[Parallel(n_jobs=1)]: Using backend SequentialBackend with 1 concurrent workers.\n",
      "[Parallel(n_jobs=1)]: Done 500 out of 500 | elapsed:    0.8s finished\n",
      "[Parallel(n_jobs=-1)]: Using backend SequentialBackend with 1 concurrent workers.\n",
      "[Parallel(n_jobs=-1)]: Done 1000 out of 1000 | elapsed:   36.3s finished\n",
      "[Parallel(n_jobs=1)]: Using backend SequentialBackend with 1 concurrent workers.\n",
      "[Parallel(n_jobs=1)]: Done 1000 out of 1000 | elapsed:    2.2s finished\n",
      "[Parallel(n_jobs=1)]: Using backend SequentialBackend with 1 concurrent workers.\n",
      "[Parallel(n_jobs=1)]: Done 1000 out of 1000 | elapsed:    2.3s finished\n",
      "[Parallel(n_jobs=-1)]: Using backend SequentialBackend with 1 concurrent workers.\n",
      "[Parallel(n_jobs=-1)]: Done 1000 out of 1000 | elapsed:   39.1s finished\n",
      "[Parallel(n_jobs=1)]: Using backend SequentialBackend with 1 concurrent workers.\n",
      "[Parallel(n_jobs=1)]: Done 1000 out of 1000 | elapsed:    2.0s finished\n",
      "[Parallel(n_jobs=1)]: Using backend SequentialBackend with 1 concurrent workers.\n",
      "[Parallel(n_jobs=1)]: Done 1000 out of 1000 | elapsed:    1.6s finished\n",
      "[Parallel(n_jobs=-1)]: Using backend SequentialBackend with 1 concurrent workers.\n",
      "[Parallel(n_jobs=-1)]: Done 5000 out of 5000 | elapsed:  3.0min finished\n",
      "[Parallel(n_jobs=1)]: Using backend SequentialBackend with 1 concurrent workers.\n",
      "[Parallel(n_jobs=1)]: Done 5000 out of 5000 | elapsed:   14.8s finished\n",
      "[Parallel(n_jobs=1)]: Using backend SequentialBackend with 1 concurrent workers.\n",
      "[Parallel(n_jobs=1)]: Done 5000 out of 5000 | elapsed:   12.6s finished\n",
      "[Parallel(n_jobs=-1)]: Using backend SequentialBackend with 1 concurrent workers.\n"
     ]
    }
   ],
   "source": [
    "# PCA feature reduction to n-components\n",
    "n = 50 # 650 for ~80% representation\n",
    "X_train_pca, X_test_pca = pcaSelection(X_train, X_test, n)\n",
    "scores_pca, mat_pca, report_pca, fpr_pca, tpr_pca = model_fit_predict(X_train_pca,X_test_pca,y_train,y_test,1)"
   ]
  },
  {
   "attachments": {},
   "cell_type": "markdown",
   "metadata": {},
   "source": [
    "# Evalutation\n",
    "**Accuracy** - the set of labels predicted for a sample must exactly match the corresponding set of labels in y_true <br>\n",
    "**Precision** - tp / (tp + fp) <br>\n",
    "**Recall** - tp / (tp + fn) <br>\n",
    "**F1-score** -  2 * (precision * recall) / (precision + recall) <br>\n",
    "**Support** -  number of samples of the true response that lie in that class <br>\n",
    "**ROC curve** - a graphical plot which ishows the performance of a classification model at all classification thresholds <br>\n",
    "**AUC** - aggregate measure of performance across all possible classification thresholds <br>"
   ]
  },
  {
   "cell_type": "code",
   "execution_count": 18,
   "metadata": {},
   "outputs": [
    {
     "data": {
      "text/html": [
       "<iframe id=\"igraph\" scrolling=\"no\" style=\"border:none;\" seamless=\"seamless\" src=\"https://plot.ly/~ee542team/66.embed\" height=\"525px\" width=\"100%\"></iframe>"
      ],
      "text/plain": [
       "<plotly.tools.PlotlyDisplay object>"
      ]
     },
     "execution_count": 18,
     "metadata": {},
     "output_type": "execute_result"
    }
   ],
   "source": [
    "from sklearn.metrics import auc\n",
    "models = {'LogisticRegression','ExtraTreesClassifier','RandomForestClassifier','AdaBoostClassifier',\\\n",
    "          'GradientBoostingClassifier','SVC','MLP'}\n",
    "def ROCplot(fpr,tpr):\n",
    "    '''\n",
    "    Function to genrate traces for 2D scatter plot\n",
    "    Args: 2-feature X_train of dimension [?,2]\n",
    "    Return: list of scatter plot trace objects\n",
    "    '''\n",
    "    data=[]\n",
    "    lw = 1\n",
    "    trace_mid = go.Scatter(x=[0, 1], y=[0, 1], \n",
    "                        mode='lines', \n",
    "                        line=dict(color='navy', width=lw, dash='dash'),\n",
    "                        name='Random Classification')\n",
    "    data.append(trace_mid)\n",
    "    for label in range (0,num_class-1):\n",
    "        trace = go.Scatter(x=fpr[label], y=tpr[label], \n",
    "                            mode='lines', \n",
    "                            line=dict(color=next(colors), width=lw),\n",
    "                            name= next(classes) + ' (area = %0.2f)' % auc(fpr[label], tpr[label])\n",
    "                           )\n",
    "        data.append(trace)\n",
    "    trace_avg = go.Scatter(x=fpr['micro'], y=tpr['micro'], \n",
    "                        mode='lines', \n",
    "                        line=dict(color=next(colors), width=lw),\n",
    "                        name= 'micro_avg' + ' (area = %0.2f)' % auc(fpr['micro'], tpr['micro'])\n",
    "                       )\n",
    "    data.append(trace_avg)\n",
    "    return data\n",
    "\n",
    "\n",
    "logistic_roc_data = ROCplot(fpr_pca['LogisticRegression'],tpr_pca['LogisticRegression'])\n",
    "layout = go.Layout(title=\"Logistic Regression ROC curve\",\n",
    "                   xaxis=dict(title='False Positive Rate'),\n",
    "                   yaxis=dict(title='True Positive Rate'))\n",
    "fig_roc_1 = go.Figure(data=logistic_roc_data[:-1], layout=layout)\n",
    "py.iplot(fig_roc_1)\n"
   ]
  },
  {
   "cell_type": "code",
   "execution_count": 21,
   "metadata": {},
   "outputs": [
    {
     "data": {
      "text/html": [
       "<iframe id=\"igraph\" scrolling=\"no\" style=\"border:none;\" seamless=\"seamless\" src=\"https://plot.ly/~ee542team/72.embed\" height=\"525px\" width=\"100%\"></iframe>"
      ],
      "text/plain": [
       "<plotly.tools.PlotlyDisplay object>"
      ]
     },
     "execution_count": 21,
     "metadata": {},
     "output_type": "execute_result"
    }
   ],
   "source": [
    "extratrees_roc_data = ROCplot(fpr_pca['ExtraTreesClassifier'],tpr_pca['ExtraTreesClassifier'])\n",
    "layout = go.Layout(title=\"Extra Trees Classifier ROC curve\",\n",
    "                   xaxis=dict(title='False Positive Rate'),\n",
    "                   yaxis=dict(title='True Positive Rate'))\n",
    "fig_roc_2 = go.Figure(data=extratrees_roc_data[:-1], layout=layout)\n",
    "py.iplot(fig_roc_2)"
   ]
  },
  {
   "cell_type": "code",
   "execution_count": 22,
   "metadata": {},
   "outputs": [
    {
     "data": {
      "text/html": [
       "<iframe id=\"igraph\" scrolling=\"no\" style=\"border:none;\" seamless=\"seamless\" src=\"https://plot.ly/~ee542team/74.embed\" height=\"525px\" width=\"100%\"></iframe>"
      ],
      "text/plain": [
       "<plotly.tools.PlotlyDisplay object>"
      ]
     },
     "execution_count": 22,
     "metadata": {},
     "output_type": "execute_result"
    }
   ],
   "source": [
    "rf_roc_data = ROCplot(fpr_pca['RandomForestClassifier'],tpr_pca['RandomForestClassifier'])\n",
    "layout = go.Layout(title=\"Random Forest Classifier ROC curve\",\n",
    "                   xaxis=dict(title='False Positive Rate'),\n",
    "                   yaxis=dict(title='True Positive Rate'))\n",
    "fig_roc_3 = go.Figure(data=rf_roc_data[:-1], layout=layout)\n",
    "py.iplot(fig_roc_3)"
   ]
  },
  {
   "cell_type": "code",
   "execution_count": null,
   "metadata": {},
   "outputs": [],
   "source": [
    "adaboost_roc_data = ROCplot(fpr_pca['AdaBoostClassifier'],tpr_pca['AdaBoostClassifier'])\n",
    "layout = go.Layout(title=\"Adaboost Classifier ROC curve\",\n",
    "                   xaxis=dict(title='False Positive Rate'),\n",
    "                   yaxis=dict(title='True Positive Rate'))\n",
    "fig_roc_4 = go.Figure(data=adaboost_roc_data, layout=layout)\n",
    "py.iplot(fig_roc_4)"
   ]
  },
  {
   "cell_type": "code",
   "execution_count": null,
   "metadata": {},
   "outputs": [],
   "source": [
    "gd_roc_data = ROCplot(fpr_pca['GradientBoostingClassifier'],tpr_pca['GradientBoostingClassifier'])\n",
    "layout = go.Layout(title=\"Gradient Boosting Classifier ROC curve\",\n",
    "                   xaxis=dict(title='False Positive Rate'),\n",
    "                   yaxis=dict(title='True Positive Rate'))\n",
    "fig_roc_5 = go.Figure(data=gd_roc_data, layout=layout)\n",
    "py.iplot(fig_roc_5)"
   ]
  },
  {
   "cell_type": "code",
   "execution_count": 24,
   "metadata": {},
   "outputs": [
    {
     "data": {
      "text/html": [
       "<iframe id=\"igraph\" scrolling=\"no\" style=\"border:none;\" seamless=\"seamless\" src=\"https://plot.ly/~ee542team/78.embed\" height=\"525px\" width=\"100%\"></iframe>"
      ],
      "text/plain": [
       "<plotly.tools.PlotlyDisplay object>"
      ]
     },
     "execution_count": 24,
     "metadata": {},
     "output_type": "execute_result"
    }
   ],
   "source": [
    "svc_roc_data = ROCplot(fpr_pca['SVC'],tpr_pca['SVC'])\n",
    "layout = go.Layout(title=\"SVC Classifier ROC curve\",\n",
    "                   xaxis=dict(title='False Positive Rate'),\n",
    "                   yaxis=dict(title='True Positive Rate'))\n",
    "fig_roc_6 = go.Figure(data=svc_roc_data[:-1], layout=layout)\n",
    "py.iplot(fig_roc_6)"
   ]
  },
  {
   "cell_type": "code",
   "execution_count": 25,
   "metadata": {},
   "outputs": [
    {
     "data": {
      "text/html": [
       "<iframe id=\"igraph\" scrolling=\"no\" style=\"border:none;\" seamless=\"seamless\" src=\"https://plot.ly/~ee542team/80.embed\" height=\"525px\" width=\"100%\"></iframe>"
      ],
      "text/plain": [
       "<plotly.tools.PlotlyDisplay object>"
      ]
     },
     "execution_count": 25,
     "metadata": {},
     "output_type": "execute_result"
    }
   ],
   "source": [
    "mlp_roc_data = ROCplot(fpr_pca['MLP'],tpr_pca['MLP'])\n",
    "layout = go.Layout(title=\"Multi-Layer Perceptron Classifier ROC curve\",\n",
    "                   xaxis=dict(title='False Positive Rate'),\n",
    "                   yaxis=dict(title='True Positive Rate'))\n",
    "fig_roc_7 = go.Figure(data=mlp_roc_data[:-1], layout=layout)\n",
    "py.iplot(fig_roc_7)"
   ]
  },
  {
   "cell_type": "code",
   "execution_count": 98,
   "metadata": {},
   "outputs": [
    {
     "data": {
      "text/html": [
       "<iframe id=\"igraph\" scrolling=\"no\" style=\"border:none;\" seamless=\"seamless\" src=\"https://plot.ly/~ee542team/104.embed\" height=\"525px\" width=\"100%\"></iframe>"
      ],
      "text/plain": [
       "<plotly.tools.PlotlyDisplay object>"
      ]
     },
     "execution_count": 98,
     "metadata": {},
     "output_type": "execute_result"
    }
   ],
   "source": [
    "# 5 estimators\n",
    "\n",
    "lw = 2\n",
    "trace_mid = go.Scatter(x=[0, 1], y=[0, 1],\n",
    "                    mode='lines', \n",
    "                    line=dict(color='navy', width=lw, dash='dash'),\n",
    "                    name='Random Classification')\n",
    "trace1 = go.Scatter(x=fpr_pca['LogisticRegression']['micro'], y=tpr_pca['LogisticRegression']['micro'], \n",
    "                    mode='lines', \n",
    "                    line=dict(color='aquamarine',width=lw),\n",
    "                    name= 'Logistic Regression (area = %0.2f)' % auc(fpr_pca['LogisticRegression']['micro'], tpr_pca['LogisticRegression']['micro']))\n",
    "trace2 = go.Scatter(x=fpr_pca['ExtraTreesClassifier']['micro'], y=tpr_pca['ExtraTreesClassifier']['micro'], \n",
    "                    mode='lines', \n",
    "                    line=dict(color='crimson',width=lw),\n",
    "                    name= 'Extra Trees Classifier (area = %0.2f)' % auc(fpr_pca['ExtraTreesClassifier']['micro'], tpr_pca['ExtraTreesClassifier']['micro']))\n",
    "trace3 = go.Scatter(x=fpr_pca['RandomForestClassifier']['micro'], y=tpr_pca['RandomForestClassifier']['micro'], \n",
    "                    mode='lines', \n",
    "                    line=dict(color='darkseagreen',width=lw),\n",
    "                    name= 'Random Forest Classifier (area = %0.2f)' % auc(fpr_pca['RandomForestClassifier']['micro'], tpr_pca['RandomForestClassifier']['micro']))\n",
    "trace4 = go.Scatter(x=fpr_pca['SVC']['micro'], y=tpr_pca['SVC']['micro'], \n",
    "                    mode='lines', \n",
    "                    line=dict(color='violet',width=lw),\n",
    "                    name= 'SVC (area = %0.2f)' % auc(fpr_pca['SVC']['micro'], tpr_pca['SVC']['micro']))\n",
    "trace5 = go.Scatter(x=fpr_pca['MLP']['micro'], y=tpr_pca['MLP']['micro'], \n",
    "                    mode='lines', \n",
    "                    line=dict(color='wheat',width=lw),\n",
    "                    name= 'Multi-Layer Perceptron (area = %0.2f)' % auc(fpr_pca['MLP']['micro'], tpr_pca['MLP']['micro']))\n",
    "\n",
    "data = [trace_mid,trace1,trace2,trace3,trace4,trace5]\n",
    "\n",
    "layout = go.Layout(title=\"All Model ROC curve\",\n",
    "                   xaxis=dict(title='False Positive Rate'),\n",
    "                   yaxis=dict(title='True Positive Rate'))\n",
    "fig_roc_all = go.Figure(data=data, layout=layout)\n",
    "py.iplot(fig_roc_all)"
   ]
  },
  {
   "cell_type": "code",
   "execution_count": null,
   "metadata": {},
   "outputs": [],
   "source": [
    "# 7 estimators\n",
    "roc_micros=[logistic_roc_data[-1],extratrees_roc_data[-1],\n",
    "              rf_roc_data[-1],adaboost_roc_data[-1],\\\n",
    "              gd_roc_data[-1],svc_roc_data[-1],\\\n",
    "              mlp_roc_data[-1]]\n",
    "layout = go.Layout(title=\"All Model ROC curve\",\n",
    "                   xaxis=dict(title='False Positive Rate'),\n",
    "                   yaxis=dict(title='True Positive Rate'))\n",
    "fig_roc_all = go.Figure(data=roc_micros, layout=layout)\n",
    "py.iplot(fig_roc_all)"
   ]
  },
  {
   "cell_type": "code",
   "execution_count": 112,
   "metadata": {},
   "outputs": [
    {
     "data": {
      "text/html": [
       "<iframe id=\"igraph\" scrolling=\"no\" style=\"border:none;\" seamless=\"seamless\" src=\"https://plot.ly/~ee542team/118.embed\" height=\"525px\" width=\"100%\"></iframe>"
      ],
      "text/plain": [
       "<plotly.tools.PlotlyDisplay object>"
      ]
     },
     "execution_count": 112,
     "metadata": {},
     "output_type": "execute_result"
    }
   ],
   "source": [
    "# 5 estimators\n",
    "acc_y = [scores_pca['LogisticRegression'], scores_pca['ExtraTreesClassifier'], scores_pca['RandomForestClassifier'],\\\n",
    "       scores_pca['SVC'],scores_pca['MLP']]\n",
    "\n",
    "precision_y = [report_pca['LogisticRegression'][2335:2339],report_pca['ExtraTreesClassifier'][2335:2339],\\\n",
    "      report_pca['RandomForestClassifier'][2335:2339],report_pca['SVC'][2335:2339],\\\n",
    "      report_pca['MLP'][2335:2339]]\n",
    "\n",
    "recall_y = [report_pca['LogisticRegression'][2345:2345+4],report_pca['ExtraTreesClassifier'][2345:2345+4],\\\n",
    "      report_pca['RandomForestClassifier'][2345:2345+4],report_pca['SVC'][2345:2345+4],\\\n",
    "      report_pca['MLP'][2345:2345+4]]\n",
    "\n",
    "fscore_y = [report_pca['LogisticRegression'][2355:2355+4],report_pca['ExtraTreesClassifier'][2355:2355+4],\\\n",
    "      report_pca['RandomForestClassifier'][2355:2355+4],report_pca['SVC'][2355:2355+4],\\\n",
    "      report_pca['MLP'][2355:2355+4]]\n",
    "\n",
    "accuracy = go.Bar(\n",
    "    x=['LogisticRegression', 'ExtraTrees', 'RandomForest','SVC','MLP'],\n",
    "    y=acc_y,\n",
    "    text= [ '%.2f' % elem for elem in acc_y ],\n",
    "    textposition = 'outside',\n",
    "    name='Accuracy'\n",
    ")\n",
    "precision = go.Bar(\n",
    "    x=['LogisticRegression', 'ExtraTrees', 'RandomForest','SVC','MLP'],\n",
    "    y=precision_y,\n",
    "    text= [ '%.2f' % float(elem) for elem in precision_y ],\n",
    "    textposition = 'outside',\n",
    "    name='Precision'\n",
    ")\n",
    "recall = go.Bar(\n",
    "    x=['LogisticRegression', 'ExtraTrees', 'RandomForest','SVC','MLP'],\n",
    "    y=recall_y,\n",
    "    text= [ '%.2f' % float(elem) for elem in recall_y ],\n",
    "    textposition = 'outside',\n",
    "    name='Recall'\n",
    ")\n",
    "f1score = go.Bar(\n",
    "    x=['LogisticRegression', 'ExtraTrees', 'RandomForest','SVC','MLP'],\n",
    "    y=recall_y,\n",
    "    text= [ '%.2f' % float(elem) for elem in fscore_y ],\n",
    "    textposition = 'outside',\n",
    "    name='F-1 Score'\n",
    ")\n",
    "data = [accuracy, precision, recall,f1score]\n",
    "layout = go.Layout(\n",
    "    barmode='group',\n",
    "    title=\"Evaluation Metric Comparison of Various Models\"\n",
    ")\n",
    "\n",
    "bar_comp2 = go.Figure(data=data, layout=layout)\n",
    "py.iplot(bar_comp2)"
   ]
  },
  {
   "cell_type": "code",
   "execution_count": null,
   "metadata": {},
   "outputs": [],
   "source": [
    "## 7 estimators\n",
    "accuracy = go.Bar(\n",
    "    x=['LogisticRegression', 'ExtraTrees', 'RandomForest','AdaBoost','GradientBoost','SVC','MLP'],\n",
    "    y=[scores_pca['LogisticRegression'], scores_pca['ExtraTreesClassifier'], scores_pca['RandomForestClassifier'],\\\n",
    "       scores_pca['AdaBoostClassifier'],scores_pca['GradientBoostingClassifier'],scores_pca['SVC'],scores_pca['MLP']],\n",
    "    name='Accuracy'\n",
    ")\n",
    "precision = go.Bar(\n",
    "    x=['LogisticRegression', 'ExtraTrees', 'RandomForest','AdaBoost','GradientBoost','SVC','MLP'],\n",
    "    y=[report_pca['LogisticRegression']['micro avg']['precision'], 18, 29],\n",
    "    name='Precision'\n",
    ")\n",
    "recall = go.Bar(\n",
    "    x=['LogisticRegression', 'ExtraTrees', 'RandomForest','AdaBoost','GradientBoost','SVC','MLP'],\n",
    "    y=[12, 18, 29],\n",
    "    name='Recall'\n",
    ")\n",
    "f1 = go.Bar(\n",
    "    x=['LogisticRegression', 'ExtraTrees', 'RandomForest','AdaBoost','GradientBoost','SVC','MLP'],\n",
    "    y=[12, 18, 29],\n",
    "    name='F1-Score'\n",
    ")\n",
    "data = [accuracy, precision, recall,f1]\n",
    "layout = go.Layout(\n",
    "    barmode='group',\n",
    "    title=\"Evaluation Metric Comparison of Various Models\"\n",
    ")\n",
    "\n",
    "bar_comp = go.Figure(data=data, layout=layout)\n",
    "py.iplot(bar_comp)"
   ]
  },
  {
   "cell_type": "code",
   "execution_count": null,
   "metadata": {},
   "outputs": [],
   "source": [
    "for key, value in report_pca.items() :\n",
    "    print (\"Classification Report: \"+key)\n",
    "    print (value +\"\\n\")"
   ]
  },
  {
   "cell_type": "markdown",
   "metadata": {},
   "source": [
    "# Data Visualization\n",
    "## PCA 3D Scatter Plot"
   ]
  },
  {
   "cell_type": "code",
   "execution_count": 31,
   "metadata": {},
   "outputs": [
    {
     "name": "stderr",
     "output_type": "stream",
     "text": [
      "[2018-10-22 18:53:21,782 - GDC - INFO] X_train size after PCA: (8040, 3)\n",
      "[2018-10-22 18:53:21,797 - GDC - INFO] X_test size after PCA: (3446, 3)\n",
      "[2018-10-22 18:53:21,813 - GDC - INFO] Cumulative explained variation for 3 principal components: 0.1437\n"
     ]
    },
    {
     "data": {
      "text/html": [
       "<iframe id=\"igraph\" scrolling=\"no\" style=\"border:none;\" seamless=\"seamless\" src=\"https://plot.ly/~ee542team/86.embed\" height=\"525px\" width=\"100%\"></iframe>"
      ],
      "text/plain": [
       "<plotly.tools.PlotlyDisplay object>"
      ]
     },
     "execution_count": 31,
     "metadata": {},
     "output_type": "execute_result"
    }
   ],
   "source": [
    "# PCA 3-component scatter plot\n",
    "# Define Graph layout\n",
    "layout = go.Layout(\n",
    "    margin=dict(\n",
    "        l=0,\n",
    "        r=0,\n",
    "        b=0,\n",
    "        t=0\n",
    "        )\n",
    ")\n",
    "X_train_pca3, X_test_pca3 = pcaSelection(X_train, X_test, 3)\n",
    "pca3_traces = scatter3D(X_train_pca3)\n",
    "fig1 = go.Figure(data=pca3_traces, layout=layout)\n",
    "py.iplot(fig1, filename='PCA_3D_Scatter')"
   ]
  },
  {
   "cell_type": "markdown",
   "metadata": {},
   "source": [
    "## t-SNE 3D Scatter Plot "
   ]
  },
  {
   "cell_type": "code",
   "execution_count": 32,
   "metadata": {},
   "outputs": [
    {
     "name": "stdout",
     "output_type": "stream",
     "text": [
      "[t-SNE] Computing 91 nearest neighbors...\n",
      "[t-SNE] Indexed 8040 samples in 0.021s...\n",
      "[t-SNE] Computed neighbors for 8040 samples in 9.581s...\n",
      "[t-SNE] Computed conditional probabilities for sample 1000 / 8040\n",
      "[t-SNE] Computed conditional probabilities for sample 2000 / 8040\n",
      "[t-SNE] Computed conditional probabilities for sample 3000 / 8040\n",
      "[t-SNE] Computed conditional probabilities for sample 4000 / 8040\n",
      "[t-SNE] Computed conditional probabilities for sample 5000 / 8040\n",
      "[t-SNE] Computed conditional probabilities for sample 6000 / 8040\n",
      "[t-SNE] Computed conditional probabilities for sample 7000 / 8040\n",
      "[t-SNE] Computed conditional probabilities for sample 8000 / 8040\n",
      "[t-SNE] Computed conditional probabilities for sample 8040 / 8040\n",
      "[t-SNE] Mean sigma: 2.000566\n",
      "[t-SNE] KL divergence after 250 iterations with early exaggeration: 79.576187\n"
     ]
    },
    {
     "name": "stderr",
     "output_type": "stream",
     "text": [
      "[2018-10-22 19:02:13,016 - GDC - INFO] X_train size after tSNE: (8040, 3)\n"
     ]
    },
    {
     "name": "stdout",
     "output_type": "stream",
     "text": [
      "[t-SNE] KL divergence after 1000 iterations: 1.229386\n"
     ]
    },
    {
     "data": {
      "text/html": [
       "<iframe id=\"igraph\" scrolling=\"no\" style=\"border:none;\" seamless=\"seamless\" src=\"https://plot.ly/~ee542team/10.embed\" height=\"525px\" width=\"100%\"></iframe>"
      ],
      "text/plain": [
       "<plotly.tools.PlotlyDisplay object>"
      ]
     },
     "execution_count": 32,
     "metadata": {},
     "output_type": "execute_result"
    }
   ],
   "source": [
    "# tSNE 3-component scatter plot (PCA->tSNE)\n",
    "X_train_tsne3 = tsneSelection(X_train_pca,3,1)\n",
    "tsne3_traces = scatter3D(X_train_tsne3)\n",
    "fig3 = go.Figure(data=tsne3_traces, layout=layout)\n",
    "py.iplot(fig3, filename='tSNE_3D_Scatter')"
   ]
  },
  {
   "cell_type": "markdown",
   "metadata": {},
   "source": [
    "## PCA 2D Scatter Plot"
   ]
  },
  {
   "cell_type": "code",
   "execution_count": 30,
   "metadata": {},
   "outputs": [
    {
     "name": "stderr",
     "output_type": "stream",
     "text": [
      "[2018-10-22 18:52:51,701 - GDC - INFO] X_train size after PCA: (8040, 2)\n",
      "[2018-10-22 18:52:51,704 - GDC - INFO] X_test size after PCA: (3446, 2)\n",
      "[2018-10-22 18:52:51,705 - GDC - INFO] Cumulative explained variation for 2 principal components: 0.1153\n"
     ]
    },
    {
     "data": {
      "text/html": [
       "<iframe id=\"igraph\" scrolling=\"no\" style=\"border:none;\" seamless=\"seamless\" src=\"https://plot.ly/~ee542team/14.embed\" height=\"525px\" width=\"100%\"></iframe>"
      ],
      "text/plain": [
       "<plotly.tools.PlotlyDisplay object>"
      ]
     },
     "execution_count": 30,
     "metadata": {},
     "output_type": "execute_result"
    }
   ],
   "source": [
    "# PCA 2-component scatter plot\n",
    "X_train_pca2, X_test_pca2 = pcaSelection(X_train, X_test, 2)\n",
    "pca2_traces = scatter2D(X_train_pca2)\n",
    "fig2 = go.Figure(data=pca2_traces, layout=layout)\n",
    "py.iplot(fig2, filename='PCA_2D_Scatter')"
   ]
  },
  {
   "cell_type": "markdown",
   "metadata": {},
   "source": [
    "## t-SNE 2D Scatter Plot"
   ]
  },
  {
   "cell_type": "code",
   "execution_count": 33,
   "metadata": {},
   "outputs": [
    {
     "name": "stdout",
     "output_type": "stream",
     "text": [
      "[t-SNE] Computing 91 nearest neighbors...\n",
      "[t-SNE] Indexed 8040 samples in 0.027s...\n",
      "[t-SNE] Computed neighbors for 8040 samples in 11.423s...\n",
      "[t-SNE] Computed conditional probabilities for sample 1000 / 8040\n",
      "[t-SNE] Computed conditional probabilities for sample 2000 / 8040\n",
      "[t-SNE] Computed conditional probabilities for sample 3000 / 8040\n",
      "[t-SNE] Computed conditional probabilities for sample 4000 / 8040\n",
      "[t-SNE] Computed conditional probabilities for sample 5000 / 8040\n",
      "[t-SNE] Computed conditional probabilities for sample 6000 / 8040\n",
      "[t-SNE] Computed conditional probabilities for sample 7000 / 8040\n",
      "[t-SNE] Computed conditional probabilities for sample 8000 / 8040\n",
      "[t-SNE] Computed conditional probabilities for sample 8040 / 8040\n",
      "[t-SNE] Mean sigma: 2.000566\n",
      "[t-SNE] KL divergence after 250 iterations with early exaggeration: 79.516594\n"
     ]
    },
    {
     "name": "stderr",
     "output_type": "stream",
     "text": [
      "[2018-10-22 19:04:29,807 - GDC - INFO] X_train size after tSNE: (8040, 2)\n"
     ]
    },
    {
     "name": "stdout",
     "output_type": "stream",
     "text": [
      "[t-SNE] KL divergence after 1000 iterations: 1.419539\n"
     ]
    },
    {
     "data": {
      "text/html": [
       "<iframe id=\"igraph\" scrolling=\"no\" style=\"border:none;\" seamless=\"seamless\" src=\"https://plot.ly/~ee542team/12.embed\" height=\"525px\" width=\"100%\"></iframe>"
      ],
      "text/plain": [
       "<plotly.tools.PlotlyDisplay object>"
      ]
     },
     "execution_count": 33,
     "metadata": {},
     "output_type": "execute_result"
    }
   ],
   "source": [
    "# tSNE 2-component scatter plot (PCA->tSNE)\n",
    "X_train_tsne2 = tsneSelection(X_train_pca,2,1)\n",
    "tsne2_traces = scatter2D(X_train_tsne2)\n",
    "fig4 = go.Figure(data=tsne2_traces, layout=layout)\n",
    "py.iplot(fig4, filename='tSNE_2D_Scatter')"
   ]
  }
 ],
 "metadata": {
  "kernelspec": {
   "display_name": "Python 3",
   "language": "python",
   "name": "python3"
  },
  "language_info": {
   "codemirror_mode": {
    "name": "ipython",
    "version": 3
   },
   "file_extension": ".py",
   "mimetype": "text/x-python",
   "name": "python",
   "nbconvert_exporter": "python",
   "pygments_lexer": "ipython3",
   "version": "3.7.0"
  }
 },
 "nbformat": 4,
 "nbformat_minor": 2
}
